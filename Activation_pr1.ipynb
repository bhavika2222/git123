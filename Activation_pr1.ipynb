{
  "nbformat": 4,
  "nbformat_minor": 0,
  "metadata": {
    "colab": {
      "provenance": [],
      "authorship_tag": "ABX9TyNHK4TmAvUcumcwHEP+QR4a",
      "include_colab_link": true
    },
    "kernelspec": {
      "name": "python3",
      "display_name": "Python 3"
    },
    "language_info": {
      "name": "python"
    }
  },
  "cells": [
    {
      "cell_type": "markdown",
      "metadata": {
        "id": "view-in-github",
        "colab_type": "text"
      },
      "source": [
        "<a href=\"https://colab.research.google.com/github/bhavika2222/mission_first/blob/master/Activation_pr1.ipynb\" target=\"_parent\"><img src=\"https://colab.research.google.com/assets/colab-badge.svg\" alt=\"Open In Colab\"/></a>"
      ]
    },
    {
      "cell_type": "code",
      "execution_count": 30,
      "metadata": {
        "id": "U9wfJYpBo3Qz"
      },
      "outputs": [],
      "source": [
        "import numpy as np"
      ]
    },
    {
      "cell_type": "code",
      "source": [
        "import matplotlib.pyplot as plt\n"
      ],
      "metadata": {
        "id": "zhqaRFdYo8nj"
      },
      "execution_count": 31,
      "outputs": []
    },
    {
      "cell_type": "code",
      "source": [
        "x=np.arange(-5,5,0.25)"
      ],
      "metadata": {
        "id": "2V9eznZ7pO9e"
      },
      "execution_count": 32,
      "outputs": []
    },
    {
      "cell_type": "code",
      "source": [
        "x"
      ],
      "metadata": {
        "colab": {
          "base_uri": "https://localhost:8080/"
        },
        "id": "O4E3qGPApk7A",
        "outputId": "33dcdc74-9141-44f7-9575-a53d4797441d"
      },
      "execution_count": 33,
      "outputs": [
        {
          "output_type": "execute_result",
          "data": {
            "text/plain": [
              "array([-5.  , -4.75, -4.5 , -4.25, -4.  , -3.75, -3.5 , -3.25, -3.  ,\n",
              "       -2.75, -2.5 , -2.25, -2.  , -1.75, -1.5 , -1.25, -1.  , -0.75,\n",
              "       -0.5 , -0.25,  0.  ,  0.25,  0.5 ,  0.75,  1.  ,  1.25,  1.5 ,\n",
              "        1.75,  2.  ,  2.25,  2.5 ,  2.75,  3.  ,  3.25,  3.5 ,  3.75,\n",
              "        4.  ,  4.25,  4.5 ,  4.75])"
            ]
          },
          "metadata": {},
          "execution_count": 33
        }
      ]
    },
    {
      "cell_type": "code",
      "source": [
        "y=x*4.67+21.25"
      ],
      "metadata": {
        "id": "7KSjJZ4Vpl99"
      },
      "execution_count": 34,
      "outputs": []
    },
    {
      "cell_type": "code",
      "source": [
        "y\n"
      ],
      "metadata": {
        "colab": {
          "base_uri": "https://localhost:8080/"
        },
        "id": "P5EbvZSGpx-a",
        "outputId": "4d0c6f12-0605-48d6-d236-67d23bb3fac0"
      },
      "execution_count": 35,
      "outputs": [
        {
          "output_type": "execute_result",
          "data": {
            "text/plain": [
              "array([-2.1   , -0.9325,  0.235 ,  1.4025,  2.57  ,  3.7375,  4.905 ,\n",
              "        6.0725,  7.24  ,  8.4075,  9.575 , 10.7425, 11.91  , 13.0775,\n",
              "       14.245 , 15.4125, 16.58  , 17.7475, 18.915 , 20.0825, 21.25  ,\n",
              "       22.4175, 23.585 , 24.7525, 25.92  , 27.0875, 28.255 , 29.4225,\n",
              "       30.59  , 31.7575, 32.925 , 34.0925, 35.26  , 36.4275, 37.595 ,\n",
              "       38.7625, 39.93  , 41.0975, 42.265 , 43.4325])"
            ]
          },
          "metadata": {},
          "execution_count": 35
        }
      ]
    },
    {
      "cell_type": "code",
      "source": [
        "plt.plot(x,y)\n"
      ],
      "metadata": {
        "colab": {
          "base_uri": "https://localhost:8080/",
          "height": 448
        },
        "id": "aSc56rciqIpu",
        "outputId": "07d5044a-b681-4514-eb57-b12166a1e410"
      },
      "execution_count": 36,
      "outputs": [
        {
          "output_type": "execute_result",
          "data": {
            "text/plain": [
              "[<matplotlib.lines.Line2D at 0x7b83c3c75630>]"
            ]
          },
          "metadata": {},
          "execution_count": 36
        },
        {
          "output_type": "display_data",
          "data": {
            "text/plain": [
              "<Figure size 640x480 with 1 Axes>"
            ],
            "image/png": "[encoded data removed]"
          },
          "metadata": {}
        }
      ]
    },
    {
      "cell_type": "code",
      "source": [
        "def sigmoid(z):\n",
        "    val=1/(1+np.exp(-z))\n",
        "    return val"
      ],
      "metadata": {
        "id": "6DXN99bpqTsk"
      },
      "execution_count": 37,
      "outputs": []
    },
    {
      "cell_type": "code",
      "source": [
        "y=sigmoid(x)"
      ],
      "metadata": {
        "id": "15JAGLu1qmHB"
      },
      "execution_count": 38,
      "outputs": []
    },
    {
      "cell_type": "code",
      "source": [
        "y"
      ],
      "metadata": {
        "colab": {
          "base_uri": "https://localhost:8080/"
        },
        "id": "Raj9JJePquht",
        "outputId": "fac53255-aa13-415a-afbe-c3e246330bd7"
      },
      "execution_count": 39,
      "outputs": [
        {
          "output_type": "execute_result",
          "data": {
            "text/plain": [
              "array([0.00669285, 0.00857749, 0.01098694, 0.01406363, 0.01798621,\n",
              "       0.02297737, 0.02931223, 0.03732689, 0.04742587, 0.06008665,\n",
              "       0.07585818, 0.09534946, 0.11920292, 0.1480472 , 0.18242552,\n",
              "       0.22270014, 0.26894142, 0.3208213 , 0.37754067, 0.4378235 ,\n",
              "       0.5       , 0.5621765 , 0.62245933, 0.6791787 , 0.73105858,\n",
              "       0.77729986, 0.81757448, 0.8519528 , 0.88079708, 0.90465054,\n",
              "       0.92414182, 0.93991335, 0.95257413, 0.96267311, 0.97068777,\n",
              "       0.97702263, 0.98201379, 0.98593637, 0.98901306, 0.99142251])"
            ]
          },
          "metadata": {},
          "execution_count": 39
        }
      ]
    },
    {
      "cell_type": "code",
      "source": [
        "plt.plot(x,y)"
      ],
      "metadata": {
        "colab": {
          "base_uri": "https://localhost:8080/",
          "height": 448
        },
        "id": "2kIcnw4DqyMT",
        "outputId": "c4120f71-d95c-4042-d333-81be12330fcb"
      },
      "execution_count": 40,
      "outputs": [
        {
          "output_type": "execute_result",
          "data": {
            "text/plain": [
              "[<matplotlib.lines.Line2D at 0x7b83c3c92170>]"
            ]
          },
          "metadata": {},
          "execution_count": 40
        },
        {
          "output_type": "display_data",
          "data": {
            "text/plain": [
              "<Figure size 640x480 with 1 Axes>"
            ],
            "image/png": "[encoded data removed]"
          },
          "metadata": {}
        }
      ]
    },
    {
      "cell_type": "code",
      "source": [
        "sigmoid (0.355)"
      ],
      "metadata": {
        "colab": {
          "base_uri": "https://localhost:8080/"
        },
        "id": "R5eQzCRHro2J",
        "outputId": "582d3205-8951-4f86-db9b-e94eb8c809f6"
      },
      "execution_count": 41,
      "outputs": [
        {
          "output_type": "execute_result",
          "data": {
            "text/plain": [
              "0.5878295384825115"
            ]
          },
          "metadata": {},
          "execution_count": 41
        }
      ]
    },
    {
      "cell_type": "code",
      "source": [
        "sigmoid (0.23)"
      ],
      "metadata": {
        "colab": {
          "base_uri": "https://localhost:8080/"
        },
        "id": "2CuCvn71rpDQ",
        "outputId": "d029be45-326c-4bc9-b5fb-d83d922bd25d"
      },
      "execution_count": 42,
      "outputs": [
        {
          "output_type": "execute_result",
          "data": {
            "text/plain": [
              "0.5572478545985555"
            ]
          },
          "metadata": {},
          "execution_count": 42
        }
      ]
    },
    {
      "cell_type": "code",
      "source": [
        "sigmoid(-0.366)"
      ],
      "metadata": {
        "colab": {
          "base_uri": "https://localhost:8080/"
        },
        "id": "VkcMdC5vr4L9",
        "outputId": "19633302-76cb-4483-c1a5-f4fd56991f5c"
      },
      "execution_count": 43,
      "outputs": [
        {
          "output_type": "execute_result",
          "data": {
            "text/plain": [
              "0.40950791502343614"
            ]
          },
          "metadata": {},
          "execution_count": 43
        }
      ]
    },
    {
      "cell_type": "code",
      "source": [
        "def relu(z):\n",
        "    if z<0:\n",
        "      return 0\n",
        "    else:\n",
        "      return z"
      ],
      "metadata": {
        "id": "RpAQsSffrpPh"
      },
      "execution_count": 44,
      "outputs": []
    },
    {
      "cell_type": "code",
      "source": [
        "relx=[relu(a)for a in x]"
      ],
      "metadata": {
        "id": "KYON3YGIsL2L"
      },
      "execution_count": 45,
      "outputs": []
    },
    {
      "cell_type": "code",
      "source": [
        "relx"
      ],
      "metadata": {
        "colab": {
          "base_uri": "https://localhost:8080/"
        },
        "id": "BYBx44TVtbsV",
        "outputId": "68a91433-4840-47e6-c25b-e9f402ad6222"
      },
      "execution_count": 46,
      "outputs": [
        {
          "output_type": "execute_result",
          "data": {
            "text/plain": [
              "[0,\n",
              " 0,\n",
              " 0,\n",
              " 0,\n",
              " 0,\n",
              " 0,\n",
              " 0,\n",
              " 0,\n",
              " 0,\n",
              " 0,\n",
              " 0,\n",
              " 0,\n",
              " 0,\n",
              " 0,\n",
              " 0,\n",
              " 0,\n",
              " 0,\n",
              " 0,\n",
              " 0,\n",
              " 0,\n",
              " 0.0,\n",
              " 0.25,\n",
              " 0.5,\n",
              " 0.75,\n",
              " 1.0,\n",
              " 1.25,\n",
              " 1.5,\n",
              " 1.75,\n",
              " 2.0,\n",
              " 2.25,\n",
              " 2.5,\n",
              " 2.75,\n",
              " 3.0,\n",
              " 3.25,\n",
              " 3.5,\n",
              " 3.75,\n",
              " 4.0,\n",
              " 4.25,\n",
              " 4.5,\n",
              " 4.75]"
            ]
          },
          "metadata": {},
          "execution_count": 46
        }
      ]
    },
    {
      "cell_type": "code",
      "source": [
        "plt.plot(x,relx)"
      ],
      "metadata": {
        "colab": {
          "base_uri": "https://localhost:8080/",
          "height": 448
        },
        "id": "tHMNHLcTuICh",
        "outputId": "56f2ad93-dc6e-4d65-e309-965ddabe49a8"
      },
      "execution_count": 47,
      "outputs": [
        {
          "output_type": "execute_result",
          "data": {
            "text/plain": [
              "[<matplotlib.lines.Line2D at 0x7b83c3b62a40>]"
            ]
          },
          "metadata": {},
          "execution_count": 47
        },
        {
          "output_type": "display_data",
          "data": {
            "text/plain": [
              "<Figure size 640x480 with 1 Axes>"
            ],
            "image/png": "[encoded data removed]"
          },
          "metadata": {}
        }
      ]
    },
    {
      "cell_type": "code",
      "source": [
        "def softmax (z):\n",
        "  val =np.exp(z)/np.sum(np.exp(z))\n",
        "  return val"
      ],
      "metadata": {
        "id": "eJpbx1aJuTKg"
      },
      "execution_count": 48,
      "outputs": []
    },
    {
      "cell_type": "code",
      "source": [
        "p=[1.45,2.67,0.48,0.95]"
      ],
      "metadata": {
        "id": "_IJdc1v4u4n_"
      },
      "execution_count": 49,
      "outputs": []
    },
    {
      "cell_type": "code",
      "source": [
        "softmax(p)"
      ],
      "metadata": {
        "colab": {
          "base_uri": "https://localhost:8080/"
        },
        "id": "ulwrEALavNIF",
        "outputId": "79f48295-5bc7-44a0-9927-6b56afffc278"
      },
      "execution_count": 50,
      "outputs": [
        {
          "output_type": "execute_result",
          "data": {
            "text/plain": [
              "array([0.18612264, 0.63043233, 0.07055594, 0.11288909])"
            ]
          },
          "metadata": {},
          "execution_count": 50
        }
      ]
    },
    {
      "cell_type": "code",
      "source": [
        "plt.plot(x,np.tanh(x))"
      ],
      "metadata": {
        "colab": {
          "base_uri": "https://localhost:8080/",
          "height": 448
        },
        "id": "nnlBy8aivWZ9",
        "outputId": "9a741240-d940-4aac-c411-feb2025de78d"
      },
      "execution_count": 51,
      "outputs": [
        {
          "output_type": "execute_result",
          "data": {
            "text/plain": [
              "[<matplotlib.lines.Line2D at 0x7b83c3b16800>]"
            ]
          },
          "metadata": {},
          "execution_count": 51
        },
        {
          "output_type": "display_data",
          "data": {
            "text/plain": [
              "<Figure size 640x480 with 1 Axes>"
            ],
            "image/png": "[encoded data removed]"
          },
          "metadata": {}
        }
      ]
    }
  ]
}