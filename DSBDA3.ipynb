{
  "nbformat": 4,
  "nbformat_minor": 0,
  "metadata": {
    "colab": {
      "provenance": [],
      "authorship_tag": "ABX9TyN0Npi334JuNcKipCbIoO9k",
      "include_colab_link": true
    },
    "kernelspec": {
      "name": "python3",
      "display_name": "Python 3"
    },
    "language_info": {
      "name": "python"
    }
  },
  "cells": [
    {
      "cell_type": "markdown",
      "metadata": {
        "id": "view-in-github",
        "colab_type": "text"
      },
      "source": [
        "<a href=\"https://colab.research.google.com/github/bhavika2222/git123/blob/master/DSBDA3.ipynb\" target=\"_parent\"><img src=\"https://colab.research.google.com/assets/colab-badge.svg\" alt=\"Open In Colab\"/></a>"
      ]
    },
    {
      "cell_type": "code",
      "execution_count": null,
      "metadata": {
        "id": "0QUev59_4K65"
      },
      "outputs": [],
      "source": [
        "import pandas as pd\n",
        "import numpy as np\n",
        "df=pd.read_csv(\"/home/mangal/Downloads/heart.csv\")\n",
        "df.shape\n",
        "df.columns\n",
        "df.dtypes\n",
        "df.info()\n",
        "df.describe()\n",
        "df.isnull().sum()\n",
        "df.duplicated().any().sum()\n",
        "df.drop_duplicates(inplace=True)\n",
        "df.shape\n",
        "df.duplicated().sum()\n",
        "import matplotlib.pyplot as plt\n",
        "import seaborn as sns\n",
        "plt.figure(figsize=(15,6)) # try (15 , 10)\n",
        "sns.heatmap(df.corr(),annot=True)\n",
        "plt.title('Degree of Correlation of variables in the dataset')\n",
        "sns.countplot(x='target',data=df)\n",
        "plt.xticks([0,1],['less chance','more chance'])\n",
        "plt.title('Chances of heart disease')\n",
        "plt.figure(figsize=(15,6))\n",
        "df['target'].value_counts(normalize=True)\n",
        "sns.countplot(x='sex',data=df  )\n",
        "plt.title('Number of males and females')\n",
        "plt.xticks([0,1] , ['females','males'])\n",
        "plt.show()\n",
        "sns.countplot(x='sex',data=df, hue ='target'  )\n",
        "plt.title('chances of heart disease  by gender')\n",
        "plt.xticks([0,1] ,['females','males'])\n",
        "plt.legend(labels=['less chance','high chance'])\n",
        "sns.histplot(df['cp'])\n",
        "plt.xticks([0,1,2,3],[\"typical angina\",\"atypical angina\",\"non-anginal pain\",\"asymptomatic\"])\n",
        "plt.xticks(rotation=70)\n",
        "plt.figure(figsize=(10,7))\n",
        "plt.show()\n",
        "list1 = list(df['cp'].value_counts(normalize=True))\n",
        "list1\n",
        "plt.pie(list1,labels=[\"typical angina\",\"non-anginal\",\n",
        "\"atypical angina\",\"asymptomatic\"],startangle=180, shadow=True, \n",
        "autopct='%1.1f%%')\n",
        "plt.show()\n",
        "sns.countplot(x='cp',hue='target',data=df)\n",
        "plt.title('Relation between types of chest pain and number of people having high or low chances of heart attack')\n",
        "plt.xticks([0,1,2,3],[\"typical angina\",\"atypical angina\",\"non-anginal pain\",\"asymptomatic\"])\n",
        "plt.legend(labels=['low chance','high chance'])\n",
        "sns.countplot(x='fbs' , hue='target',data=df)\n",
        "plt.legend(labels=['low chance','high chance'])\n",
        "df['fbs'].value_counts(normalize=True)\n",
        "g= sns.FacetGrid(df,hue=\"sex\",aspect=4)\n",
        "g.map(sns.kdeplot,'trestbps',shade=True)\n",
        "plt.xlabel(\"resting blood presuure\")\n",
        "plt.legend(labels=[\"female\",\"male\"])\n",
        "chol= sns.FacetGrid(df,hue=\"sex\",aspect=4)\n",
        "chol.map(sns.kdeplot,'chol',shade=True)\n",
        "plt.xlabel(\"serum cholestrol\")\n",
        "plt.legend(labels=[\"female\",\"male\"])\n",
        "cat_val=[] \n",
        "cont_val=[] \n",
        "for column in df.columns:\n",
        "    if df[column].nunique() <= 5:\n",
        "        cat_val.append(column)\n",
        "    else:\n",
        "        cont_val.append(column)\n",
        "cont_val \n",
        "cat_val = ['age', 'trestbps', 'chol', 'thalach', 'oldpeak']\n",
        "df.hist(cont_val, figsize=(17,6))\n",
        "plt.show()\n",
        "plt.tight_layout()\n",
        "df.hist(cat_val,  layout=(4, 4), figsize=(20, 20), color=\"DarkCyan\", \n",
        "               grid=True)\n",
        "plt.show()\n",
        "sns.pairplot(df , hue = 'target')"
      ]
    }
  ]
}