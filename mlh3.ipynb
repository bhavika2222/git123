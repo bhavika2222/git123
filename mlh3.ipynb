{
  "nbformat": 4,
  "nbformat_minor": 0,
  "metadata": {
    "colab": {
      "provenance": [],
      "authorship_tag": "ABX9TyNXD3Mg5PGTq7F1zufhZ6Mm",
      "include_colab_link": true
    },
    "kernelspec": {
      "name": "python3",
      "display_name": "Python 3"
    },
    "language_info": {
      "name": "python"
    }
  },
  "cells": [
    {
      "cell_type": "markdown",
      "metadata": {
        "id": "view-in-github",
        "colab_type": "text"
      },
      "source": [
        "<a href=\"https://colab.research.google.com/github/bhavika2222/mission_first/blob/master/mlh3.ipynb\" target=\"_parent\"><img src=\"https://colab.research.google.com/assets/colab-badge.svg\" alt=\"Open In Colab\"/></a>"
      ]
    },
    {
      "cell_type": "code",
      "execution_count": 11,
      "metadata": {
        "colab": {
          "base_uri": "https://localhost:8080/"
        },
        "id": "l_QY06egpdOR",
        "outputId": "1cd971a0-faad-4c88-f179-bc573650cf86"
      },
      "outputs": [
        {
          "output_type": "stream",
          "name": "stdout",
          "text": [
            "model trained!\n",
            "testing-->\n",
            "(0, 0) = 1(correct)\n",
            "(0, 1) = 1(correct)\n",
            "(1, 0) = 1(correct)\n",
            "(1, 1) = 0(correct)\n"
          ]
        }
      ],
      "source": [
        "#MLH assignment 3\n",
        "\n",
        "#dataset: dataset is not required\n",
        "#Implement basic logic gates using Hebbnet neural networks\n",
        "\n",
        "import random\n",
        "import matplotlib\n",
        "import matplotlib.pyplot as plt\n",
        "\n",
        "class Net:\n",
        "\n",
        "  def __init__(self):\n",
        "    self.w1 = 0\n",
        "    self.w2 = 0\n",
        "    self.b=0\n",
        "\n",
        "  def forward(self, train):\n",
        "    wsum = self.w1*train[0]+self.w2*train[1]+ self.b\n",
        "    pred=1 if wsum >= 0 else 0\n",
        "    return (pred, wsum)\n",
        "\n",
        "def nn(data):\n",
        "    x, y = data[0], data[1]\n",
        "    net = Net()\n",
        "    learning_rate = 0.1\n",
        "\n",
        "    epoch = 40\n",
        "    for i in range(epoch):\n",
        "      index= random.randint(0, 3)\n",
        "      train = x[index]\n",
        "      test = y[index]\n",
        "\n",
        "      predicted, wsum = net.forward(train)\n",
        "      expected = test\n",
        "\n",
        "      net.w1+=learning_rate*(expected - predicted)*train[0]\n",
        "      net.w2+=learning_rate*(expected - predicted)*train[1]\n",
        "      net.b+=learning_rate*(expected - predicted)\n",
        "\n",
        "    print('model trained!')\n",
        "    print('testing-->')\n",
        "\n",
        "    for i,j in zip(x, y):\n",
        "      predicted=net.forward(i)[0]\n",
        "      print(i,'=', predicted, end = '')\n",
        "      print('(correct)') if predicted == j else print(\"(wrong)\")\n",
        "\n",
        "gates={'and': [[(0, 0), (0, 1), (1, 0), (1, 1)], [0, 0, 0, 1]],\n",
        "        'or': [[(0, 0), (0, 1), (1, 0), (1, 1)], [0, 1, 1, 1]],\n",
        "      'nand': [[(0, 0), (0, 1), (1, 0), (1, 1)], [1, 1, 1, 0]],\n",
        "       'nor': [[(0, 0), (0, 1), (1, 0), (1, 1)], [1, 0, 0, 0]]}\n",
        "nn(gates['nand'])"
      ]
    }
  ]
}