{
  "nbformat": 4,
  "nbformat_minor": 0,
  "metadata": {
    "colab": {
      "provenance": [],
      "authorship_tag": "ABX9TyMTKNJbgEkKkLHhCddV2e1Q",
      "include_colab_link": true
    },
    "kernelspec": {
      "name": "python3",
      "display_name": "Python 3"
    },
    "language_info": {
      "name": "python"
    }
  },
  "cells": [
    {
      "cell_type": "markdown",
      "metadata": {
        "id": "view-in-github",
        "colab_type": "text"
      },
      "source": [
        "<a href=\"https://colab.research.google.com/github/bhavika2222/mission_first/blob/master/DSBDA_2B.ipynb\" target=\"_parent\"><img src=\"https://colab.research.google.com/assets/colab-badge.svg\" alt=\"Open In Colab\"/></a>"
      ]
    },
    {
      "cell_type": "code",
      "execution_count": null,
      "metadata": {
        "id": "5Otf8Rz5BdPW"
      },
      "outputs": [],
      "source": [
        "import numpy as np\n",
        "import pandas as pd\n",
        "from sklearn.model_selection import train_test_split\n",
        "from sklearn.linear_model import LogisticRegression\n",
        "from sklearn.metrics import accuracy_score\n",
        "df = pd.read_csv('/content/heart.csv') \n",
        "df.head()\n",
        "df.tail()\n",
        "df.shape\n",
        "df.info()\n",
        "df.isnull().sum()\n",
        "df.describe()\n",
        "df['target'].value_counts()\n",
        "X= df.drop(columns='target',axis=1)\n",
        "print(X)\n",
        "Y=df['target']\n",
        "print(Y)\n",
        "X_train, X_test, Y_train, Y_test = train_test_split(X, Y, test_size=0.2, random_state=2)\n",
        "print(X.shape, X_train.shape, X_test.shape)\n",
        "print(X_test.head())\n",
        "model = LogisticRegression(max_iter=1050).fit(X_train, Y_train)\n",
        "training_data_accuracy = model.score(X_train, Y_train)\n",
        "test_data_accuracy = model.score(X_test, Y_test)\n",
        "print('Accuracy on training data:', training_data_accuracy)\n",
        "print('Accuracy on test data:', test_data_accuracy)\n",
        "input_data = (52, 1, 0, 125, 212, 0, 1, 168, 0, 1, 2, 2, 3)\n",
        "prediction = model.predict([input_data])\n",
        "if prediction[0] == 0:\n",
        "    print('The person does not have a heart disease')\n",
        "else:\n",
        "    print('The person has a heart disease')     \n",
        "     \n",
        "\n",
        "\n"
      ]
    }
  ]
}