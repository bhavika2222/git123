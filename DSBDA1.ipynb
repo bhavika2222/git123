{
  "nbformat": 4,
  "nbformat_minor": 0,
  "metadata": {
    "colab": {
      "provenance": [],
      "authorship_tag": "ABX9TyMPfCFnd3qH/Pi1Wam36ZEg",
      "include_colab_link": true
    },
    "kernelspec": {
      "name": "python3",
      "display_name": "Python 3"
    },
    "language_info": {
      "name": "python"
    }
  },
  "cells": [
    {
      "cell_type": "markdown",
      "metadata": {
        "id": "view-in-github",
        "colab_type": "text"
      },
      "source": [
        "<a href=\"https://colab.research.google.com/github/bhavika2222/mission_first/blob/master/DSBDA1.ipynb\" target=\"_parent\"><img src=\"https://colab.research.google.com/assets/colab-badge.svg\" alt=\"Open In Colab\"/></a>"
      ]
    },
    {
      "cell_type": "code",
      "execution_count": null,
      "metadata": {
        "id": "EOA9lUIYCdXs"
      },
      "outputs": [],
      "source": [
        "import pandas as pd\n",
        "import numpy as np\n",
        "df = pd.read_csv('/home/mangal/Downloads/dataset_Facebook.csv', sep = \";\") # put your path here\n",
        "df.head()\n",
        "subset1  = df.loc[df[\"Type\"] == \"Photo\"]\n",
        "subset1.to_csv('/home/mangal/Downloads/photo_data.csv')\n",
        "temp = df.iloc[10:25]\n",
        "print(temp)\n",
        "df1 = df[['Type', 'Category', 'comment']].loc[4:17]\n",
        "df2 = df[['Type', 'Category', 'Paid']].loc[24:30]\n",
        "df3 = df[['Type', 'Category', 'Paid']].loc[31:35]\n",
        "print(\"\\n\", \"DF 1 \", df1, \"\\n\")\n",
        "print(\"\\n\", \"DF 2 \", df2, \"\\n\")\n",
        "print(\"\\n\", \"DF 3 \", df3, \"\\n\")\n",
        "pd.concat([df1, df2, df3])\n",
        "df.sort_values(['Category', 'Paid'], ascending=False)\n",
        "df.transpose()\n",
        "print(df1)\n",
        "df_melted = df1.melt (id_vars = None , value_vars = None , ignore_index = False )\n",
        "print(df_melted)\n",
        "df_pivoted = df_melted.pivot( columns = 'variable',values = 'value') \n",
        "print( df_pivoted)\n"
      ]
    }
  ]
}