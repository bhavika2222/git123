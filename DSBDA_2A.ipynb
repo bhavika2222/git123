{
  "nbformat": 4,
  "nbformat_minor": 0,
  "metadata": {
    "colab": {
      "provenance": [],
      "authorship_tag": "ABX9TyNyKs/sp9U8/xlrQaO7qltd",
      "include_colab_link": true
    },
    "kernelspec": {
      "name": "python3",
      "display_name": "Python 3"
    },
    "language_info": {
      "name": "python"
    }
  },
  "cells": [
    {
      "cell_type": "markdown",
      "metadata": {
        "id": "view-in-github",
        "colab_type": "text"
      },
      "source": [
        "<a href=\"https://colab.research.google.com/github/bhavika2222/mission_first/blob/master/DSBDA_2A.ipynb\" target=\"_parent\"><img src=\"https://colab.research.google.com/assets/colab-badge.svg\" alt=\"Open In Colab\"/></a>"
      ]
    },
    {
      "cell_type": "code",
      "execution_count": null,
      "metadata": {
        "id": "UCEqrF-G8e1Z"
      },
      "outputs": [],
      "source": [
        "import pandas as pd\n",
        "import numpy as np\n",
        "from sklearn.preprocessing import StandardScaler\n",
        "df = pd.read_csv('/home/mangal/Downloads/AirQuality.csv',sep = ';') \n",
        "df.info()\n",
        "df.head()\n",
        "df.shape \n",
        "df.isnull().sum()\n",
        "df.drop(['Unnamed: 15','Unnamed: 16'],axis = 1,inplace = True)\n",
        "df.shape\n",
        "df[df.isnull().any(axis=1)]\n",
        "df.dropna(how = 'all', inplace = True)\n",
        "df[df.isnull().any(axis=1)] \n",
        "df.info()\n",
        "print(df['CO(GT)'])\n",
        "print( df['C6H6(GT)'])\n",
        "print(df['RH'])\n",
        "print(df['AH'])\n",
        "print(df['T'])\n",
        "j = 'CO(GT) C6H6(GT) T RH AH'.split()\n",
        "print(j) \n",
        "df.replace(to_replace=',',value='.',regex=True,inplace=True) \n",
        "for i in j :\n",
        "    df[i] = pd.to_numeric(df[i],errors='coerce') \n",
        "df.info() \n",
        "df.head()\n",
        "scaler = StandardScaler()\n",
        "Numerical_col = df.select_dtypes(exclude = [np.object_ , np.datetime64 ]  ) \n",
        "for col in Numerical_col:\n",
        "    df[[col]] = scaler.fit_transform(df[[col]])\n",
        "df.head()\n",
        "df.info()\n",
        "df['Date'] = pd.to_datetime(df['Date'],dayfirst=True) \n",
        "df['Time'] = pd.to_datetime(df['Time'],format= '%H.%M.%S' ).dt.time\n",
        "df.head()\n",
        "df.info()"
      ]
    }
  ]
}